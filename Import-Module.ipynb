{
 "cells": [
  {
   "cell_type": "code",
   "execution_count": 8,
   "id": "61109294",
   "metadata": {},
   "outputs": [],
   "source": [
    "\"\"\"\n",
    "2. Open a new python file and import the Module.py file.\n",
    "    a. Now call the 4 methods from the Module.py file, i.e., addition(), subtraction(), multiplication(), and division().\n",
    "\"\"\"\n",
    "\n",
    "import Module"
   ]
  },
  {
   "cell_type": "code",
   "execution_count": 9,
   "id": "9530dc77",
   "metadata": {},
   "outputs": [
    {
     "name": "stdout",
     "output_type": "stream",
     "text": [
      "Addition:  11\n"
     ]
    }
   ],
   "source": [
    "Module.addition(5,6)"
   ]
  },
  {
   "cell_type": "code",
   "execution_count": 10,
   "id": "4ba4de7c",
   "metadata": {},
   "outputs": [
    {
     "name": "stdout",
     "output_type": "stream",
     "text": [
      "Subtraction:  -1\n"
     ]
    }
   ],
   "source": [
    "Module.subtraction(5,6)"
   ]
  },
  {
   "cell_type": "code",
   "execution_count": 11,
   "id": "3e60615f",
   "metadata": {},
   "outputs": [
    {
     "name": "stdout",
     "output_type": "stream",
     "text": [
      "Multiplication:  30\n"
     ]
    }
   ],
   "source": [
    "Module.multiplication(5,6)"
   ]
  },
  {
   "cell_type": "code",
   "execution_count": 12,
   "id": "88be0b9b",
   "metadata": {},
   "outputs": [
    {
     "name": "stdout",
     "output_type": "stream",
     "text": [
      "Division:  0.8333333333333334\n"
     ]
    }
   ],
   "source": [
    "Module.division(5,6)"
   ]
  },
  {
   "cell_type": "code",
   "execution_count": null,
   "id": "957140cd",
   "metadata": {},
   "outputs": [],
   "source": []
  }
 ],
 "metadata": {
  "kernelspec": {
   "display_name": "Python 3 (ipykernel)",
   "language": "python",
   "name": "python3"
  },
  "language_info": {
   "codemirror_mode": {
    "name": "ipython",
    "version": 3
   },
   "file_extension": ".py",
   "mimetype": "text/x-python",
   "name": "python",
   "nbconvert_exporter": "python",
   "pygments_lexer": "ipython3",
   "version": "3.10.9"
  }
 },
 "nbformat": 4,
 "nbformat_minor": 5
}
