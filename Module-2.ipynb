{
 "cells": [
  {
   "cell_type": "markdown",
   "id": "efe9f078",
   "metadata": {},
   "source": [
    "## OOPs with Python Assignment-1"
   ]
  },
  {
   "cell_type": "code",
   "execution_count": 7,
   "id": "8e91dc16",
   "metadata": {},
   "outputs": [
    {
     "name": "stdout",
     "output_type": "stream",
     "text": [
      "Name:  kumar\n",
      "Salary:  5000\n"
     ]
    }
   ],
   "source": [
    "\"\"\"\n",
    "1. Create a class names Employee, with a constructor ‘__init__’ method that accepts name and\n",
    "salary as parameters and set properties named name and salary.\n",
    "\"\"\"\n",
    "\n",
    "class Employee:\n",
    "    def __init__(self,name,salary):\n",
    "        self.name = name\n",
    "        self.salary = salary\n",
    "        print ('Name: ',self.name)\n",
    "        print ('Salary: ',self.salary)\n",
    "        \n",
    "obj=Employee('kumar',5000)"
   ]
  },
  {
   "cell_type": "code",
   "execution_count": 24,
   "id": "ff578ac9",
   "metadata": {},
   "outputs": [
    {
     "name": "stdout",
     "output_type": "stream",
     "text": [
      "Name: kumar, Salary: 5000\n",
      "Name: riyo, Salary: 10000\n"
     ]
    }
   ],
   "source": [
    "\"\"\"\n",
    "2. Define __str__ method in Employee class so that when someone tries to print the object the\n",
    "string Name: employee_name, Salary: employee_salary is printed with the actual employee\n",
    "name and salary.\n",
    "\"\"\"\n",
    "class Employee:\n",
    "    def __init__(self,name,salary):\n",
    "        self.name = name\n",
    "        self.salary = salary\n",
    "    def __str__(self):\n",
    "        return f\"Name: {self.name}, Salary: {self.salary}\"\n",
    "        \n",
    "emp1 = Employee('kumar',5000)\n",
    "emp2 = Employee('riyo',10000)\n",
    "print(emp1)\n",
    "print(emp2)"
   ]
  },
  {
   "cell_type": "code",
   "execution_count": 46,
   "id": "44acbd93",
   "metadata": {},
   "outputs": [],
   "source": [
    "\"\"\"\n",
    "3. Create another class named Calculator, with methods to add, subtract, multiply and divide two\n",
    "numbers.\n",
    "4. These methods take two numbers as parameters.\n",
    "5. These methods will be called by method named execute command.\n",
    "6. Execute command takes in 3 parameters command which is string that can be either ‘add’, ‘sub’,\n",
    "‘mul’, ‘div’, and two numbers and it will call the appropriate method based on command\n",
    "parameter.\n",
    "\"\"\"\n",
    "class Calculator:\n",
    "    def add(self, num1, num2):\n",
    "        print(\"Addition:\",num1+num2)\n",
    "    def sub(self, num1, num2):\n",
    "        print(\"Subtraction:\", num1-num2)\n",
    "    def mul(self, num1, num2):\n",
    "        print(\"Multiplication:\", num1*num2)\n",
    "    def div(self, num1, num2):\n",
    "        if num2 != 0:\n",
    "            print(\"Division:\", num1 / num2)\n",
    "        else:\n",
    "            raise ValueError(\"Cannot divide by zero.\")\n",
    "        \n",
    "    def execute_command(self, command, num1, num2):\n",
    "        if command == 'add':\n",
    "            return self.add(num1, num2)\n",
    "        elif command == 'sub':\n",
    "            return self.sub(num1, num2)\n",
    "        elif command == 'mul':\n",
    "            return self.mul(num1, num2)\n",
    "        elif command == 'div':\n",
    "            return self.div(num1, num2)\n",
    "        else:\n",
    "            raise ValueError(\"Invalid command. Supported commands: 'add', 'sub', 'mul', 'div'.\")\n",
    "\n",
    "\n",
    "calc=Calculator()\n"
   ]
  },
  {
   "cell_type": "code",
   "execution_count": 50,
   "id": "8c65bdb6",
   "metadata": {},
   "outputs": [
    {
     "name": "stdout",
     "output_type": "stream",
     "text": [
      "Division: 0.8333333333333334\n"
     ]
    }
   ],
   "source": [
    "calc.execute_command('div',5,6)"
   ]
  },
  {
   "cell_type": "markdown",
   "id": "69e72bd0",
   "metadata": {},
   "source": [
    "## Function And Class"
   ]
  },
  {
   "cell_type": "code",
   "execution_count": 3,
   "id": "25f89ff1",
   "metadata": {},
   "outputs": [],
   "source": [
    "\"\"\"\n",
    "1. Create a function named ‘factor’ that can only accept 1 argument. The\n",
    "function should return the factorial of that number.\n",
    "\n",
    "\"\"\"\n",
    "\n",
    "def factor(x):\n",
    "    result=1\n",
    "    i=1\n",
    "    while i<=x:\n",
    "        result=result*i\n",
    "        i+=1\n",
    "    return result"
   ]
  },
  {
   "cell_type": "code",
   "execution_count": 6,
   "id": "ffb62814",
   "metadata": {},
   "outputs": [
    {
     "data": {
      "text/plain": [
       "120"
      ]
     },
     "execution_count": 6,
     "metadata": {},
     "output_type": "execute_result"
    }
   ],
   "source": [
    "factor(5)"
   ]
  },
  {
   "cell_type": "code",
   "execution_count": 19,
   "id": "db8a7160",
   "metadata": {},
   "outputs": [],
   "source": [
    "\"\"\"\n",
    "2. Create a function named ‘check_string’, the function should accept a string\n",
    "data from the user and the function should check if the user input contains\n",
    "the letter ‘s’ in it. If it contains the letter ‘s’ then print- ‘The string is\n",
    "containing the letter ‘s’’, if not then print- ‘The string doesn’t contain the\n",
    "letter ‘s’’.\n",
    "\"\"\"\n",
    "\n",
    "def check_string():\n",
    "    Str=input('Enter String: ')\n",
    "    if 's' in Str:\n",
    "        print(\"The string is containing the letter ‘s’\")   \n",
    "    else:\n",
    "        print(\"The string does not contain the letter ‘s’\")"
   ]
  },
  {
   "cell_type": "code",
   "execution_count": 20,
   "id": "7d630f98",
   "metadata": {},
   "outputs": [
    {
     "name": "stdout",
     "output_type": "stream",
     "text": [
      "Enter String: no i am good\n",
      "The string does not contain the letter ‘s’\n"
     ]
    }
   ],
   "source": [
    "check_string()"
   ]
  },
  {
   "cell_type": "code",
   "execution_count": 21,
   "id": "b96bdecc",
   "metadata": {},
   "outputs": [
    {
     "name": "stdout",
     "output_type": "stream",
     "text": [
      "Enter String: my name is kumar\n",
      "The string is containing the letter ‘s’ or 'S'\n"
     ]
    }
   ],
   "source": [
    "check_string()"
   ]
  },
  {
   "cell_type": "code",
   "execution_count": 29,
   "id": "da215176",
   "metadata": {},
   "outputs": [],
   "source": [
    "\"\"\"\n",
    "3. Create a class named ‘student’ and inside the class, create a function\n",
    "named ‘fun1’- this method should accept the user defined input and return\n",
    "that value:\n",
    "    a. Create another method named- message() and that method should print\n",
    "    the user defined input that we have defined in ‘fun1’.\n",
    "\"\"\"\n",
    "\n",
    "class student:\n",
    "    def fun1():\n",
    "        Str=input('Enter String: ')\n",
    "        return Str\n",
    "obj1=student\n",
    "\n",
    "def message():\n",
    "    print(obj1.fun1())\n",
    "    "
   ]
  },
  {
   "cell_type": "code",
   "execution_count": 30,
   "id": "c2d1978f",
   "metadata": {},
   "outputs": [
    {
     "name": "stdout",
     "output_type": "stream",
     "text": [
      "Enter String: kumar\n",
      "kumar\n"
     ]
    }
   ],
   "source": [
    "message()"
   ]
  },
  {
   "cell_type": "code",
   "execution_count": 31,
   "id": "36c479a7",
   "metadata": {},
   "outputs": [
    {
     "name": "stdout",
     "output_type": "stream",
     "text": [
      "Enter String: kumar\n"
     ]
    },
    {
     "data": {
      "text/plain": [
       "'kumar'"
      ]
     },
     "execution_count": 31,
     "metadata": {},
     "output_type": "execute_result"
    }
   ],
   "source": [
    "obj1.fun1()"
   ]
  },
  {
   "cell_type": "code",
   "execution_count": 34,
   "id": "bba23b1c",
   "metadata": {},
   "outputs": [],
   "source": [
    "\"\"\"\n",
    "4.Create a lambda function that should double or multiply the number (that\n",
    "we will be passing in the lambda function) by 2. Store the lambda function\n",
    "in a variable named ‘double_num’.\n",
    "\"\"\"\n",
    "def lambda_fun():\n",
    "    x=int(input('Enter Number: '))\n",
    "    double_num = lambda x: x * 2\n",
    "    result = double_num(x)\n",
    "    return result"
   ]
  },
  {
   "cell_type": "code",
   "execution_count": 36,
   "id": "4c708c56",
   "metadata": {},
   "outputs": [
    {
     "name": "stdout",
     "output_type": "stream",
     "text": [
      "Enter Number: 10\n"
     ]
    },
    {
     "data": {
      "text/plain": [
       "20"
      ]
     },
     "execution_count": 36,
     "metadata": {},
     "output_type": "execute_result"
    }
   ],
   "source": [
    "lambda_fun()"
   ]
  },
  {
   "cell_type": "code",
   "execution_count": 41,
   "id": "9cc75eb9",
   "metadata": {},
   "outputs": [],
   "source": [
    "#5. Take user input string and check whether that string is palindrome or not.\n",
    "\n",
    "def is_palindrome(string):\n",
    "    # Remove any whitespace and convert to lowercase\n",
    "    string = string.replace(\" \", \"\").lower()\n",
    "    \n",
    "    # Compare the string with its reversed version\n",
    "    if string == string[::-1]:\n",
    "        print(\"The string is a palindrome.\")\n",
    "    else:\n",
    "        print(\"The string is not a palindrome.\")\n",
    "\n"
   ]
  },
  {
   "cell_type": "code",
   "execution_count": 43,
   "id": "6dfebf95",
   "metadata": {},
   "outputs": [
    {
     "name": "stdout",
     "output_type": "stream",
     "text": [
      "The string is a palindrome.\n"
     ]
    }
   ],
   "source": [
    "is_palindrome('Level')"
   ]
  },
  {
   "cell_type": "markdown",
   "id": "0b9798c6",
   "metadata": {},
   "source": [
    "##  Functions"
   ]
  },
  {
   "cell_type": "code",
   "execution_count": 60,
   "id": "9be1c545",
   "metadata": {},
   "outputs": [],
   "source": [
    "\"\"\"\n",
    "1. Create a class named ‘Super’ and inside that class define a user-defined\n",
    "function named fun1\n",
    "    a. Inside the ‘fun1’ function, pass the message “This is function 1 in the\n",
    "    Super class.” in the print statement.\n",
    "\"\"\"\n",
    "\n",
    "class Super:\n",
    "    def fun1():\n",
    "        print('This is function 1 in the Super class.')\n"
   ]
  },
  {
   "cell_type": "code",
   "execution_count": 61,
   "id": "42d30ef2",
   "metadata": {},
   "outputs": [
    {
     "name": "stdout",
     "output_type": "stream",
     "text": [
      "This is function 1 in the Super class.\n"
     ]
    }
   ],
   "source": [
    "Super.fun1()"
   ]
  },
  {
   "cell_type": "code",
   "execution_count": 58,
   "id": "4bd6eb74",
   "metadata": {},
   "outputs": [],
   "source": [
    "\"\"\"\n",
    "2. Create another class named ‘Modified_Super’ and inherit this class from\n",
    "the Super class\n",
    "    a. Inside the Modified_Super class, create a function named ‘fun1’ and\n",
    "    pass the following message inside the print statement: ‘This is function 1 in\n",
    "    the Modified Super class.’\n",
    "    b. Create another user-defined function named ‘fun2’ and pass the\n",
    "    message: ‘This is the 2 nd function from the Modified Super class’ in the\n",
    "    print statement.\n",
    "    c. After that, now create an object for the Modified_Super class and call the\n",
    "    fun1().\n",
    "\"\"\"\n",
    "\n",
    "class Modified_Super(Super):\n",
    "    def fun1(self):\n",
    "        print('This is function 1 in the Modified Super class.')\n",
    "    def fun2(self):\n",
    "        print('This is the 2 nd function from the Modified Super class')\n",
    "        \n",
    "obj1=Modified_Super()"
   ]
  },
  {
   "cell_type": "code",
   "execution_count": 59,
   "id": "216bea18",
   "metadata": {},
   "outputs": [
    {
     "name": "stdout",
     "output_type": "stream",
     "text": [
      "This is function 1 in the Modified Super class.\n"
     ]
    }
   ],
   "source": [
    "obj1.fun1()"
   ]
  },
  {
   "cell_type": "code",
   "execution_count": 62,
   "id": "9b887602",
   "metadata": {},
   "outputs": [],
   "source": [
    "\"\"\"\n",
    "3. Create 2 methods named ‘Hello’. In the 1st Hello method, pass only one\n",
    "argument and pass this message: ‘This function is only having 1\n",
    "argument’. And in the 2nd Hello method, pass two arguments and pass\n",
    "this message: ‘This function is having 2 arguments’.\n",
    "    a. Try to call both the methods and analyze the output of both the methods.\n",
    "\"\"\"\n",
    "\n",
    "def hello(x):\n",
    "    print('This function is only having 1 argument')\n",
    "\n",
    "def hello(x,y):\n",
    "    print('This function is having 2 arguments')"
   ]
  },
  {
   "cell_type": "code",
   "execution_count": 65,
   "id": "0af7c314",
   "metadata": {},
   "outputs": [
    {
     "ename": "TypeError",
     "evalue": "hello() missing 1 required positional argument: 'y'",
     "output_type": "error",
     "traceback": [
      "\u001b[1;31m---------------------------------------------------------------------------\u001b[0m",
      "\u001b[1;31mTypeError\u001b[0m                                 Traceback (most recent call last)",
      "Cell \u001b[1;32mIn[65], line 1\u001b[0m\n\u001b[1;32m----> 1\u001b[0m \u001b[43mhello\u001b[49m\u001b[43m(\u001b[49m\u001b[38;5;241;43m1\u001b[39;49m\u001b[43m)\u001b[49m\n",
      "\u001b[1;31mTypeError\u001b[0m: hello() missing 1 required positional argument: 'y'"
     ]
    }
   ],
   "source": [
    "hello(1)"
   ]
  },
  {
   "cell_type": "code",
   "execution_count": 66,
   "id": "0866f62d",
   "metadata": {},
   "outputs": [
    {
     "name": "stdout",
     "output_type": "stream",
     "text": [
      "This function is having 2 arguments\n"
     ]
    }
   ],
   "source": [
    "hello(1,2)"
   ]
  },
  {
   "cell_type": "code",
   "execution_count": 1,
   "id": "95f2cfe4",
   "metadata": {},
   "outputs": [],
   "source": [
    "\"\"\"\n",
    "4. Create a method named ‘Sum’ that can accept multiple user inputs. Now\n",
    "add those user defined input values using for loop and the function should\n",
    "return the addition of the numbers.\n",
    "\"\"\"\n",
    "\n",
    "def Sum():\n",
    "    n=int(input('Enter Number of numbers: '))\n",
    "    i=0\n",
    "    result=0\n",
    "    while(i<n):\n",
    "        num=int(input('Enter Number: '))\n",
    "        result=result+num\n",
    "        i=i+1\n",
    "    return result      "
   ]
  },
  {
   "cell_type": "code",
   "execution_count": 2,
   "id": "77bd17f2",
   "metadata": {},
   "outputs": [
    {
     "name": "stdout",
     "output_type": "stream",
     "text": [
      "Enter Number of numbers: 3\n",
      "Enter Number: 1\n",
      "Enter Number: 2\n",
      "Enter Number: 3\n"
     ]
    },
    {
     "data": {
      "text/plain": [
       "6"
      ]
     },
     "execution_count": 2,
     "metadata": {},
     "output_type": "execute_result"
    }
   ],
   "source": [
    "Sum()"
   ]
  },
  {
   "cell_type": "code",
   "execution_count": 28,
   "id": "5dc5008c",
   "metadata": {},
   "outputs": [
    {
     "name": "stdout",
     "output_type": "stream",
     "text": [
      "10\n"
     ]
    }
   ],
   "source": [
    "\"\"\"\n",
    "5. Create a class named ‘Encapsulation’:\n",
    "    a. Inside the class, first create a constructor. Inside the constructor,\n",
    "    initialize originalValue variable as 10.\n",
    "    b. After creating the constructor, define a function named ‘Value’ and this\n",
    "    function should return the variable that we have initialized in the\n",
    "    constructor.\n",
    "    c. Now create a 2nd function named setValue, and pass an argument\n",
    "    named ‘newValue’. The task of this function will be to replace the value of\n",
    "    the originalValue variable by the value of newValue variable.\n",
    "\"\"\"\n",
    "\n",
    "class Encapsulation:\n",
    "    def __init__(self):\n",
    "        self.orginalValue=10\n",
    "    def Value(self):\n",
    "        print(self.orginalValue)\n",
    "    def setValue(self,newValue):\n",
    "        print(newValue)\n",
    "        \n",
    "\n",
    "obj2=Encapsulation()\n",
    "obj2.Value()"
   ]
  },
  {
   "cell_type": "code",
   "execution_count": 29,
   "id": "0b8c7b5a",
   "metadata": {},
   "outputs": [
    {
     "name": "stdout",
     "output_type": "stream",
     "text": [
      "20\n"
     ]
    }
   ],
   "source": [
    "obj2.setValue(20)"
   ]
  },
  {
   "cell_type": "markdown",
   "id": "7764924e",
   "metadata": {},
   "source": [
    "## Inheritance Assignment"
   ]
  },
  {
   "cell_type": "code",
   "execution_count": 53,
   "id": "2cdce42c",
   "metadata": {},
   "outputs": [
    {
     "data": {
      "text/plain": [
       "10"
      ]
     },
     "execution_count": 53,
     "metadata": {},
     "output_type": "execute_result"
    }
   ],
   "source": [
    "\"\"\"\n",
    "1. Create a class named parent_Class and inside the class, initialize a global variable num as 10.\n",
    "    a. Create another class named child_Class and this class should be inherited from the parent class.\n",
    "    b. Now create an object for the child_Class and with the help of child_Class object, display the value of ‘num’.\n",
    "\"\"\"\n",
    "\n",
    "class parent_class:\n",
    "    num=10\n",
    "class child_class(parent_class):\n",
    "    def Print(self):\n",
    "        return self.num\n",
    "    \n",
    "childObj=child_class()\n",
    "childObj.Print()"
   ]
  },
  {
   "cell_type": "code",
   "execution_count": 70,
   "id": "82d60ec3",
   "metadata": {},
   "outputs": [
    {
     "data": {
      "text/plain": [
       "'Name: kumar'"
      ]
     },
     "execution_count": 70,
     "metadata": {},
     "output_type": "execute_result"
    }
   ],
   "source": [
    "\"\"\"\n",
    "2. Create three class named A, B, and C.\n",
    "    a. Inside the A class, create a constructor. Inside the constructor, initilize 2 global variables- name and age.\n",
    "    b. After initializing the global variables inside the constructor, now create a funtion named ‘details’ and \n",
    "    that function should return the ‘name’ variable.\n",
    "    c. Inside the B class, create a constructor. Inside the contructor, initialize 2 global veriables- name and id.\n",
    "    d. After initializing the global variables inside the constructor, now create a funtion named ‘details’ and \n",
    "    that function should return the ‘name’ variable.\n",
    "    e. The C class should inherit from class A, and B. Inside the class C, create a constructor, and inside the constructor, \n",
    "    call the contructor of class A.\n",
    "    f. Now, create a method inside the class C, as get_details, and this fucntion should return the vaue of name.\n",
    "    g. Atlast, create an object of class C, and with the help of the object, call the get_details().\n",
    "\"\"\"\n",
    "class A:\n",
    "    def __init__(self,name,age):\n",
    "        self.name=name\n",
    "        self.age=age\n",
    "        \n",
    "    def details(self):\n",
    "        return f\"nName: {self.name}\"\n",
    "    \n",
    "class B:\n",
    "    def __init__(self,name,id):\n",
    "        self.name=name\n",
    "        self.id=id\n",
    "    \n",
    "    def details(self):\n",
    "        return f\"Name: {self.name}\"\n",
    "    \n",
    "class C(A,B):\n",
    "    def __init__(self,name,age,id):\n",
    "        A.__init__(self,name,age)\n",
    "        B.__init__(self,name,id)\n",
    "    \n",
    "    def get_details(self):\n",
    "        return f\"Name: {self.name}\"\n",
    "\n",
    "    \n",
    "obj_c=C('kumar',33,'emp001')\n",
    "obj_c.get_details()\n",
    "    \n"
   ]
  },
  {
   "cell_type": "code",
   "execution_count": 77,
   "id": "e7cb3f47",
   "metadata": {},
   "outputs": [
    {
     "name": "stdout",
     "output_type": "stream",
     "text": [
      "This is the first function from Sub 1 class\n",
      "This is the second function from Sub 2 class\n",
      "This is the final method from the super class\n"
     ]
    }
   ],
   "source": [
    "\"\"\"\n",
    "3. Create a class named ‘Sub1’, inside the class, generate a user defined function named ‘first’ and inside the function, \n",
    "pass the following statement in the print()- ‘This is the first function from Sub 1 class’.\n",
    "    a. Now create another class named ‘Sub2’, and inside the class, create a function named ‘second’, and pass the following \n",
    "    message in the print()- ‘This is the second function from the Sub 2 class’.\n",
    "    b. After that, create another class named ‘Super’ and inside that class, create a method named ‘final’, and \n",
    "    pass the below message in the print()- ‘This is the final method from the super class’.\n",
    "    c. Now, create an object for the Super class and call all the 3 user defined methods, i.e., first(), second(), \n",
    "    and final().\n",
    "\"\"\"\n",
    "\n",
    "class Sub1:\n",
    "    def first(self):\n",
    "        print(\"This is the first function from Sub 1 class\")\n",
    "        \n",
    "class Sub2(Sub1):\n",
    "    def second(self):\n",
    "        print(\"This is the second function from Sub 2 class\")\n",
    "\n",
    "class Super(Sub2):\n",
    "    def final(self):\n",
    "        print(\"This is the final method from the super class\")\n",
    "        \n",
    "objSuper=Super()\n",
    "objSuper.first()\n",
    "objSuper.second()\n",
    "objSuper.final()"
   ]
  },
  {
   "cell_type": "code",
   "execution_count": 78,
   "id": "b355fcb9",
   "metadata": {},
   "outputs": [
    {
     "name": "stdout",
     "output_type": "stream",
     "text": [
      "This is the message from the fun1\n"
     ]
    }
   ],
   "source": [
    "\"\"\"\n",
    "4. Create a class named ‘Parent’, and inside the class, create a function named ‘fun1’ and pass the following message \n",
    "in the print()- ‘This is the message from the fun1’.\n",
    "    a. Now create a class named ‘Child1’ and inside the class, create a method named ‘fun2’ and pass the following message \n",
    "    in the print()- ‘This is the message from the fun2’.\n",
    "    b. After that, create another class named ‘Child2’ and inside the class, create a method named ‘fun3’ and pass the \n",
    "    following message in the print()- ‘This is the message from the fun3’.\n",
    "    c. Now, create an object of Child2 class and with the help of the object, call the ‘fun1’ method from the ‘Parent’ class.\n",
    "    \"\"\"\n",
    "class Parent:\n",
    "    def fun1(self):\n",
    "        print(\"This is the message from the fun1\")\n",
    "        \n",
    "class Child1:\n",
    "    def fun2(self):\n",
    "        print(\"This is the message from the fun2\")\n",
    "\n",
    "class Child2(Parent):\n",
    "    def fun3(self):\n",
    "        print(\"This is the message from the fun3\")\n",
    "        \n",
    "objChild2=Child2()\n",
    "objChild2.fun1()"
   ]
  },
  {
   "cell_type": "code",
   "execution_count": 80,
   "id": "0489656c",
   "metadata": {},
   "outputs": [
    {
     "name": "stdout",
     "output_type": "stream",
     "text": [
      "This is the message from the fun1\n",
      "This is the message from the fun2\n",
      "This is the message from the fun3\n"
     ]
    }
   ],
   "source": [
    "\"\"\"\n",
    "5. Create a class named ‘Parent’, and inside the class, create a function named ‘fun1’ and pass the following message in \n",
    "the print()- ‘This is the message from the fun1’.\n",
    "    a. Now create a class named ‘Child’ and inside the class, create a method named ‘fun2’ and pass the following message \n",
    "    in the print()- ‘This is the message from the fun2’.\n",
    "    b. After that, create another class named ‘Hybrid’ and inside the class, create a method named ‘fun3’ and pass the \n",
    "    following message in the print()- ‘This is the message from the fun3’.\n",
    "    c. Now, create an object of Hybrid class and with the help of the object, call the ‘fun1’, ‘fun2’, and ‘fun3’ methods.\n",
    "\"\"\"\n",
    "\n",
    "class Parent:\n",
    "    def fun1(self):\n",
    "        print(\"This is the message from the fun1\")\n",
    "        \n",
    "class Child(Parent):\n",
    "    def fun2(self):\n",
    "        print(\"This is the message from the fun2\")\n",
    "\n",
    "class Hybrid(Child):\n",
    "    def fun3(self):\n",
    "        print(\"This is the message from the fun3\")\n",
    "        \n",
    "objHybrid=Hybrid()\n",
    "objHybrid.fun1()\n",
    "objHybrid.fun2()\n",
    "objHybrid.fun3()"
   ]
  }
 ],
 "metadata": {
  "kernelspec": {
   "display_name": "Python 3 (ipykernel)",
   "language": "python",
   "name": "python3"
  },
  "language_info": {
   "codemirror_mode": {
    "name": "ipython",
    "version": 3
   },
   "file_extension": ".py",
   "mimetype": "text/x-python",
   "name": "python",
   "nbconvert_exporter": "python",
   "pygments_lexer": "ipython3",
   "version": "3.10.9"
  }
 },
 "nbformat": 4,
 "nbformat_minor": 5
}
