{
 "cells": [
  {
   "cell_type": "markdown",
   "id": "da97d19b",
   "metadata": {},
   "source": [
    "## Assignment 1 – If-Else Statement"
   ]
  },
  {
   "cell_type": "code",
   "execution_count": 2,
   "id": "76c9eea9",
   "metadata": {},
   "outputs": [
    {
     "name": "stdout",
     "output_type": "stream",
     "text": [
      "b is greater than a\n"
     ]
    }
   ],
   "source": [
    "\"\"\" \n",
    "Input the values of a and b as 10 and 20 respectively. Now check if a is\n",
    "greater or b is greater using if condition. Think about all the edge cases,\n",
    "and print the statements accordingly.\"\"\"\n",
    "\n",
    "a=10\n",
    "b=20\n",
    "if a>b:\n",
    "    print('a is greater than b')\n",
    "else:\n",
    "    print('b is greater than a')\n",
    "\n"
   ]
  },
  {
   "cell_type": "markdown",
   "id": "da1950c8",
   "metadata": {},
   "source": [
    "## Assignment 2 – Conditional Statements"
   ]
  },
  {
   "cell_type": "code",
   "execution_count": 9,
   "id": "ad8214a1",
   "metadata": {},
   "outputs": [
    {
     "name": "stdout",
     "output_type": "stream",
     "text": [
      "Enter a number1: 65\n",
      "Enter a number2: 553\n",
      "Enter a number3: 552\n",
      "65 is the greatest number\n"
     ]
    }
   ],
   "source": [
    "\"\"\"\n",
    "Take three user inputs and print the greatest number from those inputs using if-else condition.\n",
    "Edge cases, if any, should also be handled\"\"\"\n",
    "\n",
    "a=input('Enter a number1: ')\n",
    "b=input('Enter a number2: ')\n",
    "c=input('Enter a number3: ')\n",
    "\n",
    "if a>b and a>c:\n",
    "    print(a +' is the greatest number')\n",
    "elif b>a and b>c:\n",
    "     print(b +' is the greatest number')\n",
    "else:\n",
    "    print(c +' is the greatest number')"
   ]
  },
  {
   "cell_type": "markdown",
   "id": "62bcd586",
   "metadata": {},
   "source": [
    "## Assignment 1 – Loops"
   ]
  },
  {
   "cell_type": "code",
   "execution_count": 12,
   "id": "d39ccf11",
   "metadata": {},
   "outputs": [
    {
     "name": "stdout",
     "output_type": "stream",
     "text": [
      "1\n",
      "2\n",
      "3\n",
      "4\n",
      "5\n",
      "6\n",
      "7\n",
      "8\n",
      "9\n",
      "10\n"
     ]
    }
   ],
   "source": [
    "# Print the numbers from 1 to 10 using while loop\n",
    "\n",
    "for num in range(1,11):\n",
    "    print(num)"
   ]
  },
  {
   "cell_type": "markdown",
   "id": "6932fb3b",
   "metadata": {},
   "source": [
    "## Assignment 2 – Loops"
   ]
  },
  {
   "cell_type": "code",
   "execution_count": 9,
   "id": "05f23502",
   "metadata": {},
   "outputs": [
    {
     "name": "stdout",
     "output_type": "stream",
     "text": [
      "10  Even Number\n",
      "4  Even Number\n",
      "26  Even Number\n",
      "4  Even Number\n",
      "24  Even Number\n",
      "54  Even Number\n"
     ]
    }
   ],
   "source": [
    "\"\"\"\n",
    "Create a list that has 10, 23, 4, 26, 4, 75, 24, 54 values and with the help\n",
    "of while loop fetch the even numbers and print the numbers\"\"\"\n",
    "\n",
    "list1=[10,23,4,26,4,75,24,54]\n",
    "index=0\n",
    "while index<(len(list1)):\n",
    "    #print(list1[index])\n",
    "    if (list1[index]%2)==0:\n",
    "        print(list1[index],' Even Number')\n",
    "#     else:\n",
    "#         print(list1[index],' Odd Number')\n",
    "    index=index+1"
   ]
  },
  {
   "cell_type": "markdown",
   "id": "8e5ce987",
   "metadata": {},
   "source": [
    "## Assignment 3 – Loops"
   ]
  },
  {
   "cell_type": "code",
   "execution_count": 75,
   "id": "812e12ae",
   "metadata": {},
   "outputs": [
    {
     "name": "stdout",
     "output_type": "stream",
     "text": [
      "Enter Number: 123654\n",
      "123654  is divisible by  2\n",
      "123654  is divisible by  3\n",
      "123654  is divisible by  6\n",
      "123654  is divisible by  37\n",
      "123654  is divisible by  74\n",
      "123654  is divisible by  111\n",
      "123654  is divisible by  222\n",
      "123654  is divisible by  557\n",
      "123654  is divisible by  1114\n",
      "123654  is divisible by  1671\n",
      "123654  is divisible by  3342\n",
      "123654  is divisible by  20609\n",
      "123654  is divisible by  41218\n",
      "123654  is divisible by  61827\n",
      "123654  is not a prime number\n"
     ]
    }
   ],
   "source": [
    "\"\"\"\n",
    "Create an array that has user defined inputs and with the help of for loop,\n",
    "fetch all the prime numbers and print the numbers.\n",
    "\"\"\"\n",
    "\n",
    "n=int(input('Enter Number: '))\n",
    "flag=True\n",
    "for i in range(2,n):\n",
    "    if n%i==0:\n",
    "        print(n, ' is divisible by ',i)\n",
    "        flag=False\n",
    "if flag==True:\n",
    "    print(n,' is a prime number')\n",
    "else: \n",
    "    print(n,' is not a prime number')"
   ]
  },
  {
   "cell_type": "code",
   "execution_count": 79,
   "id": "6919bd79",
   "metadata": {},
   "outputs": [
    {
     "name": "stdout",
     "output_type": "stream",
     "text": [
      "Enter the number of elements in the list: 5\n",
      "Enter a number: 1\n",
      "Enter a number: 2\n",
      "Enter a number: 3\n",
      "Enter a number: 4\n",
      "Enter a number: 5\n",
      "2 is a prime number\n",
      "3 is a prime number\n",
      "5 is a prime number\n"
     ]
    }
   ],
   "source": [
    "def is_prime(n):\n",
    "    if n <= 1:\n",
    "        return False\n",
    "    for i in range(2, int(n**0.5) + 1):\n",
    "        if n % i == 0:\n",
    "            return False\n",
    "    return True\n",
    "\n",
    "mylist = []  # Define an empty list\n",
    "a = int(input(\"Enter the number of elements in the list: \"))\n",
    "i = 0\n",
    "while i < a:\n",
    "    num = int(input('Enter a number: '))\n",
    "    mylist.append(num)\n",
    "    i += 1\n",
    "\n",
    "for num in mylist:\n",
    "    if is_prime(num):\n",
    "        print(num, 'is a prime number')\n"
   ]
  },
  {
   "cell_type": "markdown",
   "id": "16e7b4ab",
   "metadata": {},
   "source": [
    "## Case Study Problem 1"
   ]
  },
  {
   "cell_type": "code",
   "execution_count": 23,
   "id": "321ae34e",
   "metadata": {},
   "outputs": [
    {
     "name": "stdout",
     "output_type": "stream",
     "text": [
      "Enter a Number1\n",
      "Enter a Number2\n",
      "Enter a Number3\n",
      "Enter a Number4\n",
      "Enter a Number5\n",
      "Enter a Number6\n",
      "Enter a Number7\n",
      "Enter a Number8\n",
      "Enter a Number9\n",
      "Enter a Number10\n",
      "[1, 4, 9, 16, 25, 36, 49, 64, 81, 100]\n"
     ]
    }
   ],
   "source": [
    "\"\"\"\n",
    "1. Create a list containing squares of numbers from 1 to 10 (HINT: use List\n",
    "Comprehension)\n",
    "\"\"\"\n",
    "\n",
    "i=0\n",
    "mylist=[]\n",
    "while i<10:\n",
    "    num=int(input('Enter a Number'))\n",
    "    mylist.append(num**2)\n",
    "    i=i+1\n",
    "print(mylist)   "
   ]
  },
  {
   "cell_type": "code",
   "execution_count": 31,
   "id": "7453dab6",
   "metadata": {},
   "outputs": [
    {
     "name": "stdout",
     "output_type": "stream",
     "text": [
      "Enter a year: 2021\n"
     ]
    },
    {
     "data": {
      "text/plain": [
       "(2021, ' is NOT a leap year')"
      ]
     },
     "execution_count": 31,
     "metadata": {},
     "output_type": "execute_result"
    }
   ],
   "source": [
    "#2. Write a function to check if the year number is a leap year\n",
    "def leapyear():\n",
    "    n=int(input('Enter a year: '))\n",
    "    if n%4==0:\n",
    "        return(n, ' is a leap year')\n",
    "    else:\n",
    "        return(n, ' is NOT a leap year')\n",
    "leapyear()"
   ]
  },
  {
   "cell_type": "code",
   "execution_count": 44,
   "id": "17bebab5",
   "metadata": {},
   "outputs": [],
   "source": [
    "# 3. Write a function to take an array and return another array that contains the members of the first array that are even\n",
    "\n",
    "def FindEven():\n",
    "    even=[]\n",
    "    i=int(input('How many numbers to be inserted: '))\n",
    "    j=0\n",
    "    while j<i:\n",
    "        num=int(input('Enter a Number: '))\n",
    "        if num%2==0:\n",
    "            even.append(num)\n",
    "        j=j+1\n",
    "    return ('Even Numbers are',even)  \n",
    "        "
   ]
  },
  {
   "cell_type": "code",
   "execution_count": 34,
   "id": "82fb3511",
   "metadata": {},
   "outputs": [
    {
     "name": "stdout",
     "output_type": "stream",
     "text": [
      "How many numbers to be inserted: 5\n"
     ]
    },
    {
     "data": {
      "text/plain": [
       "[]"
      ]
     },
     "execution_count": 34,
     "metadata": {},
     "output_type": "execute_result"
    }
   ],
   "source": [
    "FindEven()"
   ]
  },
  {
   "cell_type": "code",
   "execution_count": 36,
   "id": "5edc9fd0",
   "metadata": {},
   "outputs": [
    {
     "name": "stdout",
     "output_type": "stream",
     "text": [
      "How many numbers to be inserted: 5\n",
      "Enter a Number: 1\n",
      "Enter a Number: 2\n",
      "Enter a Number: 3\n",
      "Enter a Number: 4\n",
      "Enter a Number: 5\n"
     ]
    },
    {
     "data": {
      "text/plain": [
       "[2, 4]"
      ]
     },
     "execution_count": 36,
     "metadata": {},
     "output_type": "execute_result"
    }
   ],
   "source": [
    "FindEven()"
   ]
  },
  {
   "cell_type": "code",
   "execution_count": 39,
   "id": "afd169b6",
   "metadata": {},
   "outputs": [
    {
     "name": "stdout",
     "output_type": "stream",
     "text": [
      "How many numbers to be inserted: 5\n",
      "Enter a Number: 1\n",
      "Enter a Number: 2\n",
      "Enter a Number: 3\n",
      "Enter a Number: 4\n",
      "Enter a Number: 5\n"
     ]
    },
    {
     "data": {
      "text/plain": [
       "([2, 4], [1, 3, 5])"
      ]
     },
     "execution_count": 39,
     "metadata": {},
     "output_type": "execute_result"
    }
   ],
   "source": [
    "FindEven()"
   ]
  },
  {
   "cell_type": "code",
   "execution_count": 41,
   "id": "33b31523",
   "metadata": {},
   "outputs": [
    {
     "name": "stdout",
     "output_type": "stream",
     "text": [
      "How many numbers to be inserted: 5\n",
      "Enter a Number: 1\n",
      "Enter a Number: 2\n",
      "Enter a Number: 3\n",
      "Enter a Number: 4\n",
      "Enter a Number: 5\n"
     ]
    },
    {
     "data": {
      "text/plain": [
       "('Even Numbers', [2, 4])"
      ]
     },
     "execution_count": 41,
     "metadata": {},
     "output_type": "execute_result"
    }
   ],
   "source": [
    "FindEven()"
   ]
  },
  {
   "cell_type": "code",
   "execution_count": 43,
   "id": "f90a38c0",
   "metadata": {},
   "outputs": [
    {
     "name": "stdout",
     "output_type": "stream",
     "text": [
      "How many numbers to be inserted: 5\n",
      "Enter a Number: 4\n",
      "Enter a Number: 7\n",
      "Enter a Number: 8\n",
      "Enter a Number: 9\n",
      "Enter a Number: 4\n"
     ]
    },
    {
     "data": {
      "text/plain": [
       "('Even Numbers', [4, 8, 4])"
      ]
     },
     "execution_count": 43,
     "metadata": {},
     "output_type": "execute_result"
    }
   ],
   "source": [
    "FindEven()"
   ]
  },
  {
   "cell_type": "code",
   "execution_count": 10,
   "id": "c258f66b",
   "metadata": {},
   "outputs": [],
   "source": [
    "\"\"\" 4. Write a function that takes 2 arrays and prints the members of the first array that are present in the second array. \n",
    "(HINT: use Membership Comprehension) \"\"\"\n",
    "\n",
    "def find_common_numbers(array1, array2):\n",
    "    common_numbers = [number for number in array1 if number in array2]\n",
    "    print(\"Common elements:\", common_numbers)"
   ]
  },
  {
   "cell_type": "code",
   "execution_count": 11,
   "id": "d774b357",
   "metadata": {},
   "outputs": [
    {
     "name": "stdout",
     "output_type": "stream",
     "text": [
      "Common elements: [4, 5]\n"
     ]
    }
   ],
   "source": [
    "array1 = [1, 2, 3, 4, 5]\n",
    "array2 = [4, 5, 6, 7, 8]\n",
    "find_common_numbers(array1,array2)"
   ]
  },
  {
   "cell_type": "markdown",
   "id": "f208912f",
   "metadata": {},
   "source": [
    "## Case study problem - 2\n",
    "\n",
    "Problem Statement:\n",
    "Consider yourself to be Sam who is a data scientist. He has been invited as a\n",
    "guest lecturer at a college to take an introductory session on Python."
   ]
  },
  {
   "cell_type": "code",
   "execution_count": 15,
   "id": "b4e5bfb4",
   "metadata": {
    "scrolled": true
   },
   "outputs": [],
   "source": [
    "\"\"\"\n",
    "1. Create 1st tuple with values -> (10, 20, 30), 2nd tuple with values -> (40,\n",
    "50, 60):\n",
    "    a. Concatenate the two tuples and store it in “t_combine”\n",
    "    b. Repeat the elements of “t_combine” 3 times\n",
    "    c. Access the 3rd element from “t_combine”\n",
    "    d. Access the first three elements from “t_combine”\n",
    "    e. Access the last three elements from “t_combine”\n",
    "\"\"\"\n",
    "import numpy as np"
   ]
  },
  {
   "cell_type": "code",
   "execution_count": 25,
   "id": "2d51c42b",
   "metadata": {},
   "outputs": [],
   "source": [
    "# a. Concatenate the two tuples and store it in “t_combine”\n",
    "tuple1=(10,20,30)\n",
    "tuple2=(40,50,60)\n",
    "t_combine=tuple1,tuple2"
   ]
  },
  {
   "cell_type": "code",
   "execution_count": 26,
   "id": "a50170cb",
   "metadata": {},
   "outputs": [
    {
     "data": {
      "text/plain": [
       "((10, 20, 30), (40, 50, 60))"
      ]
     },
     "execution_count": 26,
     "metadata": {},
     "output_type": "execute_result"
    }
   ],
   "source": [
    "t_combine"
   ]
  },
  {
   "cell_type": "code",
   "execution_count": 27,
   "id": "ee27bcf1",
   "metadata": {},
   "outputs": [],
   "source": [
    "# b. Repeat the elements of “t_combine” 3 times\n",
    "t_combine=t_combine+t_combine+t_combine"
   ]
  },
  {
   "cell_type": "code",
   "execution_count": 28,
   "id": "389bf4ea",
   "metadata": {},
   "outputs": [
    {
     "data": {
      "text/plain": [
       "((10, 20, 30),\n",
       " (40, 50, 60),\n",
       " (10, 20, 30),\n",
       " (40, 50, 60),\n",
       " (10, 20, 30),\n",
       " (40, 50, 60))"
      ]
     },
     "execution_count": 28,
     "metadata": {},
     "output_type": "execute_result"
    }
   ],
   "source": [
    "t_combine"
   ]
  },
  {
   "cell_type": "code",
   "execution_count": 30,
   "id": "57133c04",
   "metadata": {},
   "outputs": [
    {
     "data": {
      "text/plain": [
       "(10, 20, 30)"
      ]
     },
     "execution_count": 30,
     "metadata": {},
     "output_type": "execute_result"
    }
   ],
   "source": [
    "# c. Access the 3rd element from “t_combine”\n",
    "t_combine[3-1]"
   ]
  },
  {
   "cell_type": "code",
   "execution_count": 32,
   "id": "097a42f8",
   "metadata": {},
   "outputs": [
    {
     "data": {
      "text/plain": [
       "((10, 20, 30), (40, 50, 60), (10, 20, 30))"
      ]
     },
     "execution_count": 32,
     "metadata": {},
     "output_type": "execute_result"
    }
   ],
   "source": [
    "# d. Access the first three elements from “t_combine”\n",
    "t_combine[:3]"
   ]
  },
  {
   "cell_type": "code",
   "execution_count": 34,
   "id": "9ad7a2d3",
   "metadata": {},
   "outputs": [
    {
     "data": {
      "text/plain": [
       "((40, 50, 60), (10, 20, 30), (40, 50, 60))"
      ]
     },
     "execution_count": 34,
     "metadata": {},
     "output_type": "execute_result"
    }
   ],
   "source": [
    "# e. Access the last three elements from “t_combine”\n",
    "t_combine[-3:]"
   ]
  },
  {
   "cell_type": "code",
   "execution_count": null,
   "id": "b41a11cb",
   "metadata": {},
   "outputs": [],
   "source": [
    "\"\"\"\n",
    "2. Create a list ‘my_list’ with these elements:\n",
    "    a. First element is a tuple with values 1, 2, 3\n",
    "    b. Second element is a tuple with values “a”, “b”, “c”\n",
    "    c. Third element is a tuple with values True, False\n",
    "\"\"\""
   ]
  },
  {
   "cell_type": "code",
   "execution_count": 38,
   "id": "7c3a2e2b",
   "metadata": {},
   "outputs": [],
   "source": [
    "my_list=[(1,2,3),('a','b','c'),(True,False)]"
   ]
  },
  {
   "cell_type": "code",
   "execution_count": 39,
   "id": "35c03f51",
   "metadata": {},
   "outputs": [
    {
     "data": {
      "text/plain": [
       "[(1, 2, 3), ('a', 'b', 'c'), (True, False)]"
      ]
     },
     "execution_count": 39,
     "metadata": {},
     "output_type": "execute_result"
    }
   ],
   "source": [
    "my_list"
   ]
  },
  {
   "cell_type": "code",
   "execution_count": 40,
   "id": "9e1b228b",
   "metadata": {},
   "outputs": [],
   "source": [
    "\"\"\"\n",
    "3. Append a new tuple – (1, ‘a’, True) to ‘my_list’:\n",
    "    a. Append a new list – *“sparta”, 123+ to my_list\n",
    "\"\"\"\n",
    "\n",
    "my_list.append((1,'a',True))"
   ]
  },
  {
   "cell_type": "code",
   "execution_count": 41,
   "id": "695ab856",
   "metadata": {},
   "outputs": [
    {
     "data": {
      "text/plain": [
       "[(1, 2, 3), ('a', 'b', 'c'), (True, False), (1, 'a', True)]"
      ]
     },
     "execution_count": 41,
     "metadata": {},
     "output_type": "execute_result"
    }
   ],
   "source": [
    "my_list"
   ]
  },
  {
   "cell_type": "code",
   "execution_count": 45,
   "id": "93038f80",
   "metadata": {},
   "outputs": [
    {
     "ename": "SyntaxError",
     "evalue": "invalid syntax (3105960448.py, line 1)",
     "output_type": "error",
     "traceback": [
      "\u001b[1;36m  Cell \u001b[1;32mIn[45], line 1\u001b[1;36m\u001b[0m\n\u001b[1;33m    my_list.append([\"sparta\",123+])\u001b[0m\n\u001b[1;37m                                 ^\u001b[0m\n\u001b[1;31mSyntaxError\u001b[0m\u001b[1;31m:\u001b[0m invalid syntax\n"
     ]
    }
   ],
   "source": [
    "my_list.append([\"sparta\",123+])"
   ]
  },
  {
   "cell_type": "code",
   "execution_count": 46,
   "id": "c0484307",
   "metadata": {},
   "outputs": [
    {
     "data": {
      "text/plain": [
       "'\\n4. Create a dictionary ‘fruit’ where:\\n    a. The first key is ‘Fruit’ and the values are (“Apple”, “Banana”, “Mango”,\\n    “Guava”)\\n    b. The second key is ‘Cost’ and the values are (85, 54, 120, 70)\\n    c. Extract all the keys from ‘fruit’\\n    d. Extract all the values from ‘fruit’\\n'"
      ]
     },
     "execution_count": 46,
     "metadata": {},
     "output_type": "execute_result"
    }
   ],
   "source": [
    "\"\"\"\n",
    "4. Create a dictionary ‘fruit’ where:\n",
    "    a. The first key is ‘Fruit’ and the values are (“Apple”, “Banana”, “Mango”,\n",
    "    “Guava”)\n",
    "    b. The second key is ‘Cost’ and the values are (85, 54, 120, 70)\n",
    "    c. Extract all the keys from ‘fruit’\n",
    "    d. Extract all the values from ‘fruit’\n",
    "\"\"\""
   ]
  },
  {
   "cell_type": "code",
   "execution_count": 56,
   "id": "5d8b504c",
   "metadata": {},
   "outputs": [],
   "source": [
    "fruit={\"Fruit\" : [\"Apple\", \"Banana\", \"Mango\",\"Guava\"],\n",
    "      \"Cost\" : [85, 54, 120, 70] }"
   ]
  },
  {
   "cell_type": "code",
   "execution_count": 57,
   "id": "c6cc174d",
   "metadata": {},
   "outputs": [
    {
     "data": {
      "text/plain": [
       "{'Fruit': ['Apple', 'Banana', 'Mango', 'Guava'], 'Cost': [85, 54, 120, 70]}"
      ]
     },
     "execution_count": 57,
     "metadata": {},
     "output_type": "execute_result"
    }
   ],
   "source": [
    "fruit"
   ]
  },
  {
   "cell_type": "code",
   "execution_count": 59,
   "id": "8b4f1ac5",
   "metadata": {},
   "outputs": [
    {
     "data": {
      "text/plain": [
       "dict_keys(['Fruit', 'Cost'])"
      ]
     },
     "execution_count": 59,
     "metadata": {},
     "output_type": "execute_result"
    }
   ],
   "source": [
    "fruit.keys()"
   ]
  },
  {
   "cell_type": "code",
   "execution_count": 60,
   "id": "83f09af2",
   "metadata": {},
   "outputs": [
    {
     "data": {
      "text/plain": [
       "dict_values([['Apple', 'Banana', 'Mango', 'Guava'], [85, 54, 120, 70]])"
      ]
     },
     "execution_count": 60,
     "metadata": {},
     "output_type": "execute_result"
    }
   ],
   "source": [
    "fruit.values()"
   ]
  },
  {
   "cell_type": "code",
   "execution_count": 66,
   "id": "a9787608",
   "metadata": {},
   "outputs": [
    {
     "name": "stdout",
     "output_type": "stream",
     "text": [
      "(1, 1, 'a', 'a', True, True)\n"
     ]
    }
   ],
   "source": [
    "\"\"\"\n",
    "5. Create a set named ‘my_set’ with values (1, 1, “a”, “a”, True, True) and\n",
    "print the result.\n",
    "\"\"\"\n",
    "\n",
    "my_set=((1, 1, 'a', 'a', True, True))\n",
    "print(my_set)"
   ]
  },
  {
   "cell_type": "code",
   "execution_count": null,
   "id": "faed3a1c",
   "metadata": {},
   "outputs": [],
   "source": []
  }
 ],
 "metadata": {
  "kernelspec": {
   "display_name": "Python 3 (ipykernel)",
   "language": "python",
   "name": "python3"
  },
  "language_info": {
   "codemirror_mode": {
    "name": "ipython",
    "version": 3
   },
   "file_extension": ".py",
   "mimetype": "text/x-python",
   "name": "python",
   "nbconvert_exporter": "python",
   "pygments_lexer": "ipython3",
   "version": "3.10.9"
  }
 },
 "nbformat": 4,
 "nbformat_minor": 5
}
