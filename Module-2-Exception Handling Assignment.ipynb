{
 "cells": [
  {
   "cell_type": "markdown",
   "id": "7c663de0",
   "metadata": {},
   "source": [
    "## Exception Handling Assignment"
   ]
  },
  {
   "cell_type": "code",
   "execution_count": 1,
   "id": "40683931",
   "metadata": {},
   "outputs": [],
   "source": [
    "# 1. With the help of try and inbuilt exception, display the exception.\n",
    "\n",
    "def division(num1, num2):\n",
    "    try:\n",
    "        result = num1 / num2\n",
    "    except Exception as e:\n",
    "        print(e)"
   ]
  },
  {
   "cell_type": "code",
   "execution_count": 2,
   "id": "0e368bea",
   "metadata": {},
   "outputs": [
    {
     "name": "stdout",
     "output_type": "stream",
     "text": [
      "division by zero\n"
     ]
    }
   ],
   "source": [
    "division(10,0)"
   ]
  },
  {
   "cell_type": "code",
   "execution_count": 3,
   "id": "6de73c5d",
   "metadata": {},
   "outputs": [],
   "source": [
    "\"\"\"\n",
    "2. Take two user inputs and pass those input variables in a try block. If the user input is 0, \n",
    "then throw the ZeroDivisionError exception.\n",
    "\"\"\"\n",
    "def division(num1, num2):\n",
    "    try:\n",
    "        result = num1 / num2\n",
    "    except ZeroDivisionError as e:\n",
    "        print(\"Exception Occured: \", e)"
   ]
  },
  {
   "cell_type": "code",
   "execution_count": 4,
   "id": "7c1ddfa5",
   "metadata": {},
   "outputs": [
    {
     "name": "stdout",
     "output_type": "stream",
     "text": [
      "Exception Occured:  division by zero\n"
     ]
    }
   ],
   "source": [
    "division(10,0)"
   ]
  },
  {
   "cell_type": "code",
   "execution_count": 8,
   "id": "5de2104b",
   "metadata": {},
   "outputs": [
    {
     "name": "stdout",
     "output_type": "stream",
     "text": [
      "Exception occured math range error\n"
     ]
    }
   ],
   "source": [
    "\"\"\"\n",
    "3. Import math package and with the help of math package, print – math.exp(50000). \n",
    "Now use the inbuilt OverflowError exception on the math.exp(), \n",
    "and print the exception.\n",
    "\"\"\"\n",
    "\n",
    "import math\n",
    "try:\n",
    "    print(math.exp(50000))\n",
    "except Exception as e:\n",
    "    print(\"Exception occured\", e)"
   ]
  },
  {
   "cell_type": "code",
   "execution_count": 9,
   "id": "127aa0d4",
   "metadata": {},
   "outputs": [
    {
     "name": "stdout",
     "output_type": "stream",
     "text": [
      "Collecting termcolor\n",
      "  Downloading termcolor-2.3.0-py3-none-any.whl (6.9 kB)\n",
      "Installing collected packages: termcolor\n",
      "Successfully installed termcolor-2.3.0\n"
     ]
    }
   ],
   "source": [
    "\"\"\"\n",
    "4. Now install the ‘termcolor’ package in the anaconda prompt, and import that package to \n",
    "provide the colors to the print statement in Jupyter Notebook.\n",
    "\"\"\"\n",
    "\n",
    "!pip install termcolor"
   ]
  },
  {
   "cell_type": "code",
   "execution_count": 10,
   "id": "745fb311",
   "metadata": {},
   "outputs": [],
   "source": [
    "from termcolor import colored"
   ]
  },
  {
   "cell_type": "code",
   "execution_count": 11,
   "id": "78bc8c13",
   "metadata": {},
   "outputs": [
    {
     "name": "stdout",
     "output_type": "stream",
     "text": [
      "\u001b[31mthis is colored text\u001b[0m\n"
     ]
    }
   ],
   "source": [
    "print(colored(\"this is colored text\",'red'))"
   ]
  },
  {
   "cell_type": "code",
   "execution_count": 15,
   "id": "06019a43",
   "metadata": {},
   "outputs": [
    {
     "name": "stdout",
     "output_type": "stream",
     "text": [
      "Custom Exception Caught: Number cannot be negative.\n"
     ]
    }
   ],
   "source": [
    "# 5. Create your own exception with the help of class and functions.\n",
    "\n",
    "class MyCustomException(Exception):\n",
    "    def __init__(self, message=\"This is a custom exception.\"):\n",
    "        self.message = message\n",
    "        super().__init__(self.message)\n",
    "\n",
    "def custom_function(number):\n",
    "    if number < 0:\n",
    "        raise MyCustomException(\"Number cannot be negative.\")\n",
    "\n",
    "    return number * 2\n",
    "\n",
    "# Example usage:\n",
    "try:\n",
    "    result = custom_function(-1)\n",
    "    print(\"Result:\", result)\n",
    "except MyCustomException as e:\n",
    "    print(\"Custom Exception Caught:\", e)\n"
   ]
  },
  {
   "cell_type": "code",
   "execution_count": null,
   "id": "b4127352",
   "metadata": {},
   "outputs": [],
   "source": []
  }
 ],
 "metadata": {
  "kernelspec": {
   "display_name": "Python 3 (ipykernel)",
   "language": "python",
   "name": "python3"
  },
  "language_info": {
   "codemirror_mode": {
    "name": "ipython",
    "version": 3
   },
   "file_extension": ".py",
   "mimetype": "text/x-python",
   "name": "python",
   "nbconvert_exporter": "python",
   "pygments_lexer": "ipython3",
   "version": "3.10.9"
  }
 },
 "nbformat": 4,
 "nbformat_minor": 5
}
