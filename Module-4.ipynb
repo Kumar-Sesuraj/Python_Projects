{
 "cells": [
  {
   "cell_type": "markdown",
   "id": "fa661a1b",
   "metadata": {},
   "source": [
    "## Module 4: Data Structure Assignment"
   ]
  },
  {
   "cell_type": "code",
   "execution_count": 43,
   "id": "efc81cc0",
   "metadata": {},
   "outputs": [
    {
     "name": "stdout",
     "output_type": "stream",
     "text": [
      "List:  [10, 20, 30, 'apple', True, 8.1]\n",
      "\n",
      "After appending:  [10, 20, 30, 'apple', True, 8.1, 30, 40]\n",
      "\n",
      "Reversed List:  ['40' '30' '8.1' 'True' 'apple' '30' '20' '10']\n"
     ]
    }
   ],
   "source": [
    "\"\"\"\n",
    "1. Create a list named ‘myList’ that is having the following elements: 10,20,30,’apple’, True, 8.10.\n",
    "    a. Now in the ‘myList’, append these values: 30,40\n",
    "    b. After that reverse the elements of the ‘myList’ and store that in ‘reversedList’\n",
    "\"\"\"\n",
    "\n",
    "import numpy as np\n",
    "\n",
    "my_list = [10,20,30,'apple', True, 8.10]\n",
    "print(\"List: \",my_list)\n",
    "\n",
    "my_list.append(30)\n",
    "my_list.append(40)\n",
    "print(\"\\nAfter appending: \", my_list)\n",
    "\n",
    "np_list=np.array(my_list)\n",
    "reversedList = np.flip(np_list)\n",
    "print(\"\\nReversed List: \",reversedList)"
   ]
  },
  {
   "cell_type": "code",
   "execution_count": 80,
   "id": "7b4c3b2b",
   "metadata": {},
   "outputs": [
    {
     "name": "stdout",
     "output_type": "stream",
     "text": [
      "Dictionay:  {1: 'data', 2: 'information', 3: 'text'}\n",
      "\n",
      "Dictionay after updating:  {1: 'data', 2: 'information', 3: 'features'}\n",
      "Key:  1\n"
     ]
    }
   ],
   "source": [
    "\"\"\"\n",
    "2. Create a dictonary with key values as 1,2,3 and the values as ‘data’,’information’, and ‘text’.\n",
    "    a. After that eliminate the ‘text’ value form the dictonary.\n",
    "    b. Add ‘features’ in the dictonary.\n",
    "    c. Fetch the ‘data’ element from the dictonary and display it in the output.\n",
    "\"\"\"\n",
    "\n",
    "my_dict = {1: 'data',\n",
    "          2: 'information',\n",
    "          3: 'text'}\n",
    "print(\"Dictionay: \", my_dict)\n",
    "\n",
    "my_dict[3] = 'features'\n",
    "print(\"\\nDictionay after updating: \",my_dict)\n",
    "\n",
    "value='data'\n",
    "for key, val in my_dict.items():\n",
    "    if val == value:\n",
    "        print(\"Key: \",key)\n"
   ]
  },
  {
   "cell_type": "code",
   "execution_count": 6,
   "id": "90ba70b5",
   "metadata": {},
   "outputs": [
    {
     "name": "stdout",
     "output_type": "stream",
     "text": [
      "My Tuple:  (1, 2, 3, 'apple', 'mango')\n"
     ]
    }
   ],
   "source": [
    "\"\"\"\n",
    "3. Create a tuple and add these elements 1,2,3,apple,mango in ‘my_tuple\n",
    "\"\"\"\n",
    "\n",
    "my_tuple=(1,2,3,'apple','mango')\n",
    "print(\"My Tuple: \",my_tuple)"
   ]
  },
  {
   "cell_type": "code",
   "execution_count": 13,
   "id": "2c5f55c4",
   "metadata": {},
   "outputs": [
    {
     "name": "stdout",
     "output_type": "stream",
     "text": [
      "min_value 10\n",
      "Result (1, 2, 3, 'apple', 'mango', 10, 20, 30, 40, 50)\n",
      "New Tuple:  (1, 2, 3, 'apple', 'mango', 1, 2, 3, 'apple', 'mango')\n"
     ]
    }
   ],
   "source": [
    "\"\"\"\n",
    "4. Create another tuple named numeric_tuple consisting of only integer values 10,20,30,40,50\n",
    "    a. Find the minimum value from the numeric_tuple.\n",
    "    b. Concatenate my_tuple with numeric_tuple and store the result in r1.\n",
    "    c. Duplicate the tuple named my_tuple 2 times and store that in ‘newdupli’.\n",
    "\"\"\"\n",
    "\n",
    "numeric_tuple =(10,20,30,40,50)\n",
    "min_value = min(numeric_tuple)\n",
    "print(\"min_value\",min_value)\n",
    "\n",
    "r1 = my_tuple + numeric_tuple\n",
    "print(\"Result\", r1)\n",
    "\n",
    "newdupli = my_tuple * 2\n",
    "print(\"New Tuple: \", newdupli)"
   ]
  },
  {
   "cell_type": "code",
   "execution_count": 18,
   "id": "ef813b9b",
   "metadata": {},
   "outputs": [
    {
     "name": "stdout",
     "output_type": "stream",
     "text": [
      "Union set:  {1, 2, 3, 4, 5, 6, 7}\n",
      "Intersection:  {1, 2, 3}\n",
      "Difference:  {4, 5}\n"
     ]
    }
   ],
   "source": [
    "\"\"\"\n",
    "5. Create 2 sets with name set1 and set2, where set1 contains{1,2,3,4,5} and set2 to contains{2,3,7,6,1}\n",
    "    a. Perform the below operation:\n",
    "        a. set1 union set2\n",
    "        b. set1 intersection set2\n",
    "        c. set1 difference set2\n",
    "\"\"\"\n",
    "\n",
    "set1 = {1,2,3,4,5}\n",
    "set2 = {2,3,7,6,1}\n",
    "\n",
    "setUnion = set1.union(set2)\n",
    "print(\"Union set: \", setUnion)\n",
    "\n",
    "setIntersection = set1.intersection(set2)\n",
    "print(\"Intersection: \", setIntersection)\n",
    "\n",
    "setDifference = set1 - set2\n",
    "print(\"Difference: \",setDifference )"
   ]
  },
  {
   "cell_type": "markdown",
   "id": "78d136fc",
   "metadata": {},
   "source": [
    "## Module 4: Numpy Assignment"
   ]
  },
  {
   "cell_type": "code",
   "execution_count": 26,
   "id": "26ae8d53",
   "metadata": {},
   "outputs": [
    {
     "name": "stdout",
     "output_type": "stream",
     "text": [
      "Array 1D: \n",
      " [ 2  3  4  5  6  7  8  9 10]\n",
      "\n",
      "\n",
      "Array 3D: \n",
      " [[ 2  3  4]\n",
      " [ 5  6  7]\n",
      " [ 8  9 10]]\n"
     ]
    }
   ],
   "source": [
    "\"\"\"\n",
    "1. Create a 3x3 matrix array with values ranging from 2 to 10.\n",
    "\"\"\"\n",
    "import numpy as np\n",
    "arr=np.arange(2,11)\n",
    "print(\"Array 1D: \\n\",arr)\n",
    "\n",
    "arr1=np.reshape(arr,(3,3))\n",
    "print(\"\\n\\nArray 3D: \\n\", arr1)\n"
   ]
  },
  {
   "cell_type": "code",
   "execution_count": 37,
   "id": "dd0c90e0",
   "metadata": {},
   "outputs": [],
   "source": [
    "\"\"\"\n",
    "2. Create a numpy array having user input values and convert the integer type to the float type of the \n",
    "elements of the array. For instance:\n",
    "Original array [1, 2, 3, 4] Array converted to a float type: [ 1. 2. 3. 4.]\n",
    "\"\"\"\n",
    "\n",
    "def arr():\n",
    "    n=int(input(\"How many numbers to be inserted into Array: \"))\n",
    "    i=0\n",
    "    arr=[]\n",
    "    for i in range(n):\n",
    "        x=int(input(\"Enter Number: \"))\n",
    "        arr.append(x)\n",
    "    arrInt=np.array(arr)\n",
    "    print(\"Int Array: \\n\",arrInt)\n",
    "    arrfloat=arrInt.astype(float)\n",
    "    print(\"\\nFloat Array: \\n\",arrfloat)"
   ]
  },
  {
   "cell_type": "code",
   "execution_count": 38,
   "id": "6e2a9e0a",
   "metadata": {},
   "outputs": [
    {
     "name": "stdout",
     "output_type": "stream",
     "text": [
      "How many numbers to be inserted into Array: 6\n",
      "Enter Number: 1\n",
      "Enter Number: 2\n",
      "Enter Number: 3\n",
      "Enter Number: 4\n",
      "Enter Number: 5\n",
      "Enter Number: 6\n",
      "Int Array: \n",
      " [1 2 3 4 5 6]\n",
      "\n",
      "Float Array: \n",
      " [1. 2. 3. 4. 5. 6.]\n"
     ]
    }
   ],
   "source": [
    "arr()"
   ]
  },
  {
   "cell_type": "code",
   "execution_count": 11,
   "id": "73549252",
   "metadata": {},
   "outputs": [
    {
     "name": "stdout",
     "output_type": "stream",
     "text": [
      "[10 20 30 10 20 30 40 50 60 70 80 90]\n"
     ]
    }
   ],
   "source": [
    "\"\"\"\n",
    "3. Write a Numpy program to append values to the end of an array. For instance:\n",
    "Original array: [10, 20, 30] After append values to the end of the array: [10 20 30 40 50 60 70 80 90]\n",
    "\"\"\"\n",
    "\n",
    "import numpy as np\n",
    "original_array = np.array([10,20,30])\n",
    "append_array = np.array ([10, 20, 30, 40, 50, 60, 70, 80, 90])\n",
    "original_array=np.append(original_array,append_array)\n",
    "print(original_array)"
   ]
  },
  {
   "cell_type": "code",
   "execution_count": 14,
   "id": "86b34842",
   "metadata": {},
   "outputs": [
    {
     "name": "stdout",
     "output_type": "stream",
     "text": [
      "[[ 8 10 12]\n",
      " [ 8 10 12]]\n"
     ]
    }
   ],
   "source": [
    "\"\"\"\n",
    "4. Create two numpy arrays and add the elements of both the arrays and store the result in sumArray.\n",
    "\"\"\"\n",
    "arr1 = np.array([[1,2,3],\n",
    "               [4,5,6]])\n",
    "\n",
    "arr2 = np.array([[7,8,9],\n",
    "               [4,5,6]])\n",
    "\n",
    "sumArray = arr1 + arr2\n",
    "print(sumArray)"
   ]
  },
  {
   "cell_type": "code",
   "execution_count": 15,
   "id": "e710c8d4",
   "metadata": {
    "scrolled": true
   },
   "outputs": [
    {
     "name": "stdout",
     "output_type": "stream",
     "text": [
      "3X3 Array: \n",
      " [[10 20 30]\n",
      " [40 50 60]\n",
      " [70 80 90]]\n",
      "\n",
      " First Row:  [[10 20 30]]\n",
      "\n",
      " Last Element:  [[90]]\n"
     ]
    }
   ],
   "source": [
    "\"\"\"\n",
    "5. Create a 3*3 array having values from 10-90(interval of 10) and store that in array1. Perform the following tasks:\n",
    "    a. Extract the 1st row from the array.\n",
    "    b. Extract the last element from the array.\n",
    "\"\"\"\n",
    "import numpy as np\n",
    "arr = np.arange(10,100,10)\n",
    "array1 = arr.reshape((3,3))\n",
    "print(\"3X3 Array: \\n\",array1)\n",
    "\n",
    "first_row = array1[0:1]\n",
    "print(\"\\n First Row: \",first_row)\n",
    "\n",
    "last_ele=array1[2:3,2:3]\n",
    "print(\"\\n Last Element: \",last_ele)"
   ]
  },
  {
   "cell_type": "code",
   "execution_count": null,
   "id": "0e73c18c",
   "metadata": {},
   "outputs": [],
   "source": []
  },
  {
   "cell_type": "markdown",
   "id": "c4649030",
   "metadata": {},
   "source": [
    "## Module 4: Numpy Assignment"
   ]
  },
  {
   "cell_type": "code",
   "execution_count": 1,
   "id": "f5d4ca2c",
   "metadata": {},
   "outputs": [],
   "source": [
    "\"\"\"\n",
    "1. Create a function that takes dimensions as tuples e.g.(3, 3) and a numeric value and returns a Numpy \n",
    "array of the given dimension filled with the given value e.g.: solve((3, 3), 5) will return\n",
    "[ [5, 5, 5], [5, 5, 5], [5, 5, 5] ]\n",
    "\"\"\"\n",
    "\n",
    "import numpy as np\n",
    "def fun1(dimention, value):\n",
    "    return np.full(dimention,value)"
   ]
  },
  {
   "cell_type": "code",
   "execution_count": 3,
   "id": "691b493f",
   "metadata": {},
   "outputs": [
    {
     "data": {
      "text/plain": [
       "array([[3, 3, 3, 3],\n",
       "       [3, 3, 3, 3],\n",
       "       [3, 3, 3, 3],\n",
       "       [3, 3, 3, 3]])"
      ]
     },
     "execution_count": 3,
     "metadata": {},
     "output_type": "execute_result"
    }
   ],
   "source": [
    "fun1((4,4),3)"
   ]
  },
  {
   "cell_type": "code",
   "execution_count": 26,
   "id": "1edb4ecb",
   "metadata": {},
   "outputs": [],
   "source": [
    "\"\"\"\n",
    "2. Create a method that takes n Numpy arrays of same dimensions sums them and return the answer.\n",
    "\"\"\"\n",
    "\n",
    "def fun2():\n",
    "    x=int(input(\"Enter Number of rows: \"))\n",
    "    y=int(input(\"Enter Number of columns: \"))\n",
    "    n=int(input(\"Enter Number to be filled with: \"))\n",
    "    arr=np.full((x,y),n)\n",
    "    arr1=np.full((x,y),n)\n",
    "    print(\"\\nArray 1 \\n\",arr)\n",
    "    print(\"\\nArray 2 \\n\",arr1)\n",
    "    print(\"\\nSum of two arrays: \\n\",np.add(arr,arr1))"
   ]
  },
  {
   "cell_type": "code",
   "execution_count": 27,
   "id": "13a3da78",
   "metadata": {},
   "outputs": [
    {
     "name": "stdout",
     "output_type": "stream",
     "text": [
      "Enter Number of rows: 2\n",
      "Enter Number of columns: 3\n",
      "Enter Number to be filled with: 5\n",
      "\n",
      "Array 1 \n",
      " [[5 5 5]\n",
      " [5 5 5]]\n",
      "\n",
      "Array 2 \n",
      " [[5 5 5]\n",
      " [5 5 5]]\n",
      "\n",
      "Sum of two arrays: \n",
      " [[10 10 10]\n",
      " [10 10 10]]\n"
     ]
    }
   ],
   "source": [
    "fun2()"
   ]
  },
  {
   "cell_type": "code",
   "execution_count": 4,
   "id": "bc97acb7",
   "metadata": {},
   "outputs": [],
   "source": [
    "\"\"\"\n",
    "3. Given a 2 D Array of N X M Dimension, Write a function that accepts this array as well as two numbers N and M. \n",
    "The method should return the top-left N X M sub matrix e.g:\n",
    "[ [1, 2, 3], [4, 5, 6], [7, 8, 9], ] top_left_sub_matrix (matrix, 2, 2) -> should return: [ [1, 2] [4, 5] ]\n",
    "\"\"\"\n",
    "\n",
    "def fun3():\n",
    "    n=int(input(\"How many numbers to be added into the array: \"))\n",
    "    i=0\n",
    "    arr=[]\n",
    "    for i in range(n):\n",
    "        x=int(input(\"Enter the value: \"))\n",
    "        arr.append(x)\n",
    "    print(\"Array values: \",arr)\n",
    "    rows=int(input(\"How many rows: \"))\n",
    "    cols=int(input(\"How many cols: \"))\n",
    "    arr_reshape = np.reshape(arr,(rows,cols))\n",
    "    print(\"\\nArray\\n\",arr_reshape)\n",
    "    top_left_sub_matrix=arr_reshape[0:2,0:2]\n",
    "    print(\"\\nTop left Sub Matrix\\n\",top_left_sub_matrix)"
   ]
  },
  {
   "cell_type": "code",
   "execution_count": 5,
   "id": "b0c49128",
   "metadata": {},
   "outputs": [
    {
     "name": "stdout",
     "output_type": "stream",
     "text": [
      "How many numbers to be added into the array: 9\n",
      "Enter the value: 1\n",
      "Enter the value: 2\n",
      "Enter the value: 3\n",
      "Enter the value: 4\n",
      "Enter the value: 5\n",
      "Enter the value: 6\n",
      "Enter the value: 7\n",
      "Enter the value: 8\n",
      "Enter the value: 9\n",
      "Array values:  [1, 2, 3, 4, 5, 6, 7, 8, 9]\n",
      "How many rows: 3\n",
      "How many cols: 3\n",
      "\n",
      "Array\n",
      " [[1 2 3]\n",
      " [4 5 6]\n",
      " [7 8 9]]\n",
      "\n",
      "Top left Sub Matrix\n",
      " [[1 2]\n",
      " [4 5]]\n"
     ]
    }
   ],
   "source": [
    "fun3()"
   ]
  },
  {
   "cell_type": "code",
   "execution_count": 19,
   "id": "b9ca5e2c",
   "metadata": {},
   "outputs": [],
   "source": [
    "\"\"\"\n",
    "4. Given a 2 D Array of N X M Dimension, Write a function that accepts this array as well as two numbers N and M \n",
    "The method should return the bottom-right N X M sub matrix e.g.:\n",
    "[ [1, 2, 3], [4, 5, 6], [7, 8, 9], ] sub_matrix(matrix, 1, 1) -> should return : \n",
    "(Keep in mind these arrays are zero indexed) [ [5, 6] [8, 9] ]\n",
    "\"\"\"\n",
    "\n",
    "def fun4():\n",
    "    n=int(input(\"How many numbers to be added into the array: \"))\n",
    "    i=0\n",
    "    arr=[]\n",
    "    for i in range(n):\n",
    "        x=int(input(\"Enter the value: \"))\n",
    "        arr.append(x)\n",
    "    print(\"Array values: \",arr)\n",
    "    rows=int(input(\"How many rows: \"))\n",
    "    cols=int(input(\"How many cols: \"))\n",
    "    arr_reshape = np.reshape(arr,(rows,cols))\n",
    "    print(\"\\nArray\\n\",arr_reshape)\n",
    "    bottom_right_sub_matrix=arr_reshape[1:3,1:3]\n",
    "    print(\"\\nBottom-right Sub Matrix\\n\",bottom_right_sub_matrix)"
   ]
  },
  {
   "cell_type": "code",
   "execution_count": 20,
   "id": "eaec803d",
   "metadata": {},
   "outputs": [
    {
     "name": "stdout",
     "output_type": "stream",
     "text": [
      "How many numbers to be added into the array: 9\n",
      "Enter the value: 1\n",
      "Enter the value: 2\n",
      "Enter the value: 3\n",
      "Enter the value: 4\n",
      "Enter the value: 5\n",
      "Enter the value: 6\n",
      "Enter the value: 7\n",
      "Enter the value: 8\n",
      "Enter the value: 9\n",
      "Array values:  [1, 2, 3, 4, 5, 6, 7, 8, 9]\n",
      "How many rows: 3\n",
      "How many cols: 3\n",
      "\n",
      "Array\n",
      " [[1 2 3]\n",
      " [4 5 6]\n",
      " [7 8 9]]\n",
      "\n",
      "Bottom-right Sub Matrix\n",
      " [[5 6]\n",
      " [8 9]]\n"
     ]
    }
   ],
   "source": [
    "fun4()"
   ]
  },
  {
   "cell_type": "code",
   "execution_count": 36,
   "id": "35fd1908",
   "metadata": {},
   "outputs": [],
   "source": [
    "\"\"\"\n",
    "5. Given a 1 D Numpy Array. Write a function that accepts this array as parameters. \n",
    "The method should return a dictionary with 'mean' and 'std_dev' as key and array's mean and array's standard deviation as values:\n",
    "[1, 1, 1] solution(arr) -> should return : {'mean': 1.0, 'std_dev': 0.0}\n",
    "\"\"\"\n",
    "\n",
    "def fun5():\n",
    "    n=int(input(\"How many numbers to be added into the array: \"))\n",
    "    i=0\n",
    "    arr=[]\n",
    "    for i in range(n):\n",
    "        x=int(input(\"Enter the value: \"))\n",
    "        arr.append(x)\n",
    "    print(\"\\nArray values: \",arr)\n",
    "    arr_mean=np.mean(arr)\n",
    "    arr_std_dev=np.std(arr)\n",
    "    my_dic={'mean': arr_mean,\n",
    "           'std_dev': arr_std_dev}\n",
    "    print(\"\\nThe Dictionary Value: \",my_dic)"
   ]
  },
  {
   "cell_type": "code",
   "execution_count": 37,
   "id": "08502363",
   "metadata": {},
   "outputs": [
    {
     "name": "stdout",
     "output_type": "stream",
     "text": [
      "How many numbers to be added into the array: 6\n",
      "Enter the value: 1\n",
      "Enter the value: 2\n",
      "Enter the value: 3\n",
      "Enter the value: 4\n",
      "Enter the value: 5\n",
      "Enter the value: 6\n",
      "\n",
      "Array values:  [1, 2, 3, 4, 5, 6]\n",
      "\n",
      "The Dictionary Value:  {'mean': 3.5, 'std_dev': 1.707825127659933}\n"
     ]
    }
   ],
   "source": [
    "fun5()"
   ]
  },
  {
   "cell_type": "code",
   "execution_count": null,
   "id": "445b43f4",
   "metadata": {},
   "outputs": [],
   "source": []
  }
 ],
 "metadata": {
  "kernelspec": {
   "display_name": "Python 3 (ipykernel)",
   "language": "python",
   "name": "python3"
  },
  "language_info": {
   "codemirror_mode": {
    "name": "ipython",
    "version": 3
   },
   "file_extension": ".py",
   "mimetype": "text/x-python",
   "name": "python",
   "nbconvert_exporter": "python",
   "pygments_lexer": "ipython3",
   "version": "3.10.9"
  }
 },
 "nbformat": 4,
 "nbformat_minor": 5
}
