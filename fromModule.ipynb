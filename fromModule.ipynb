{
 "cells": [
  {
   "cell_type": "code",
   "execution_count": 1,
   "id": "e1fc6e54",
   "metadata": {},
   "outputs": [],
   "source": [
    "\"\"\"\n",
    "3. From the Module file, import only the addition() and pass the arguments so that it can display the result from the method.\n",
    "4. From the Module file, import only the subtraction() and pass the arguments so that it can display the result from the method.\n",
    "5. From the Module file, import both the multiplication() and division() and pass the arguments so that it can display the \n",
    "result from the methods.\n",
    "\"\"\"\n",
    "\n",
    "from Module import addition"
   ]
  },
  {
   "cell_type": "code",
   "execution_count": 2,
   "id": "cee86142",
   "metadata": {},
   "outputs": [
    {
     "name": "stdout",
     "output_type": "stream",
     "text": [
      "Addition:  11\n"
     ]
    }
   ],
   "source": [
    "addition(5,6)"
   ]
  },
  {
   "cell_type": "code",
   "execution_count": 3,
   "id": "8129c013",
   "metadata": {},
   "outputs": [],
   "source": [
    "from Module import subtraction"
   ]
  },
  {
   "cell_type": "code",
   "execution_count": 5,
   "id": "9cbdd0f5",
   "metadata": {},
   "outputs": [
    {
     "name": "stdout",
     "output_type": "stream",
     "text": [
      "Subtraction:  3\n"
     ]
    }
   ],
   "source": [
    "subtraction(9,6)"
   ]
  },
  {
   "cell_type": "code",
   "execution_count": 6,
   "id": "f68959ba",
   "metadata": {},
   "outputs": [],
   "source": [
    "from Module import multiplication,division"
   ]
  },
  {
   "cell_type": "code",
   "execution_count": 8,
   "id": "a2f91060",
   "metadata": {},
   "outputs": [
    {
     "name": "stdout",
     "output_type": "stream",
     "text": [
      "Multiplication:  30\n",
      "Division:  3.0\n"
     ]
    }
   ],
   "source": [
    "multiplication(6,5)\n",
    "division(9,3)"
   ]
  },
  {
   "cell_type": "code",
   "execution_count": null,
   "id": "71a820d0",
   "metadata": {},
   "outputs": [],
   "source": []
  }
 ],
 "metadata": {
  "kernelspec": {
   "display_name": "Python 3 (ipykernel)",
   "language": "python",
   "name": "python3"
  },
  "language_info": {
   "codemirror_mode": {
    "name": "ipython",
    "version": 3
   },
   "file_extension": ".py",
   "mimetype": "text/x-python",
   "name": "python",
   "nbconvert_exporter": "python",
   "pygments_lexer": "ipython3",
   "version": "3.10.9"
  }
 },
 "nbformat": 4,
 "nbformat_minor": 5
}
